{
 "cells": [
  {
   "cell_type": "code",
   "execution_count": 1,
   "metadata": {},
   "outputs": [],
   "source": [
    "from unityagents import UnityEnvironment\n",
    "import numpy as np\n",
    "from ddpg_agent import Agent\n",
    "\n",
    "import torch\n",
    "from collections import deque\n",
    "import matplotlib.pyplot as plt"
   ]
  },
  {
   "cell_type": "code",
   "execution_count": 2,
   "metadata": {},
   "outputs": [
    {
     "name": "stderr",
     "output_type": "stream",
     "text": [
      "INFO:unityagents:\n",
      "'Academy' started successfully!\n",
      "Unity Academy name: Academy\n",
      "        Number of Brains: 1\n",
      "        Number of External Brains : 1\n",
      "        Lesson number : 0\n",
      "        Reset Parameters :\n",
      "\t\t\n",
      "Unity brain name: TennisBrain\n",
      "        Number of Visual Observations (per agent): 0\n",
      "        Vector Observation space type: continuous\n",
      "        Vector Observation space size (per agent): 8\n",
      "        Number of stacked Vector Observation: 3\n",
      "        Vector Action space type: continuous\n",
      "        Vector Action space size (per agent): 2\n",
      "        Vector Action descriptions: , \n"
     ]
    },
    {
     "name": "stdout",
     "output_type": "stream",
     "text": [
      "Number of agents: 2\n",
      "Size of each action: 2\n",
      "There are 2 agents. Each observes a state with length: 24\n",
      "The state for the first agent looks like: [ 0.          0.          0.          0.          0.          0.\n",
      "  0.          0.          0.          0.          0.          0.\n",
      "  0.          0.          0.          0.         -6.65278625 -1.5\n",
      " -0.          0.          6.83172083  6.         -0.          0.        ]\n"
     ]
    }
   ],
   "source": [
    "env = UnityEnvironment(file_name=\"Tennis_Linux/Tennis.x86_64\")\n",
    "\n",
    "brain_name = env.brain_names[0]\n",
    "brain = env.brains[brain_name]\n",
    "\n",
    "env_info = env.reset(train_mode=True)[brain_name]\n",
    "\n",
    "num_agents = len(env_info.agents)\n",
    "print('Number of agents:', num_agents)\n",
    "\n",
    "action_size = brain.vector_action_space_size\n",
    "print('Size of each action:', action_size)\n",
    "\n",
    "states = env_info.vector_observations\n",
    "state_size = states.shape[1]\n",
    "print('There are {} agents. Each observes a state with length: {}'.format(states.shape[0], state_size))\n",
    "print('The state for the first agent looks like:', states[0])"
   ]
  },
  {
   "cell_type": "code",
   "execution_count": 3,
   "metadata": {},
   "outputs": [],
   "source": [
    "def ddpg(num_episodes=1000):\n",
    "    score_deque = deque(maxlen=100)\n",
    "    score_list = []\n",
    "    agent_list = []\n",
    "    \n",
    "    for i in range(num_agents):\n",
    "        agent_list.append(Agent(state_size, action_size,num_agents , random_seed=0))\n",
    "\n",
    "    for episodes in range(1, num_episodes + 1):\n",
    "        env_info = env.reset(train_mode=True)[brain_name]\n",
    "        states = env_info.vector_observations\n",
    "        for agent in agent_list:\n",
    "            agent.reset()\n",
    "        scores = np.zeros(num_agents)\n",
    "        timestep = 0\n",
    "        while True:\n",
    "            actions = [agent_list[i].act(states[i]) for i in range(num_agents)]\n",
    "            env_info = env.step(actions)[brain_name]\n",
    "            next_states = env_info.vector_observations\n",
    "            rewards = env_info.rewards\n",
    "            done = env_info.local_done\n",
    "            \n",
    "            for i in range(num_agents):\n",
    "                agent_list[i].step(timestep, states[i], actions[i], rewards[i],next_states[i], done[i])\n",
    "\n",
    "            states = next_states\n",
    "            scores += rewards\n",
    "            print('\\rEpisode {}\\tTimestep {}\\tRewards {}\\tScores: {}'\n",
    "                  .format(episodes, timestep, np.array(rewards), scores), end=\"\")\n",
    "            if np.any(done):\n",
    "                break\n",
    "            timestep += 1\n",
    "\n",
    "        score_deque.append(np.max(scores))\n",
    "        score_list.append(np.max(scores))\n",
    "\n",
    "        print(\n",
    "            '\\rEpisode {}\\tAverage Score Last 100 Episodes: {:.5f}\\tMax Score (All Agents) Last Episode: {:.2f}'.format(\n",
    "                episodes, np.mean(score_deque), np.amax(scores)), end=\"\")\n",
    "        if episodes % 100 == 0:\n",
    "            print('\\rEpisode {}\\tAverage Score Last 100 Episodes: {:.5f}'.format(episodes, np.mean(score_deque)))\n",
    "        if np.mean(score_deque) >= 0.5:\n",
    "            print('\\nEnvironment solved in {:d} episodes!\\tAverage Score: {:.5f}'.format(episodes - 100,\n",
    "                                                                                         np.mean(score_deque)))\n",
    "            torch.save(agent_list[0].actor_local.state_dict(), 'actor_0.pth')\n",
    "            torch.save(agent_list[1].actor_local.state_dict(), 'actor_1.pth')\n",
    "            torch.save(Agent.critic_local.state_dict(), 'critic.pth')\n",
    "            break\n",
    "    return score_list"
   ]
  },
  {
   "cell_type": "code",
   "execution_count": 4,
   "metadata": {},
   "outputs": [
    {
     "name": "stdout",
     "output_type": "stream",
     "text": [
      "Episode 100\tAverage Score Last 100 Episodes: 0.04650\tMax Score (All Agents) Last Episode: 0.10\n",
      "Episode 200\tAverage Score Last 100 Episodes: 0.12750\tMax Score (All Agents) Last Episode: 0.10\n",
      "Episode 265\tAverage Score Last 100 Episodes: 0.50800\tMax Score (All Agents) Last Episode: 2.10\n",
      "Environment solved in 165 episodes!\tAverage Score: 0.50800\n"
     ]
    },
    {
     "data": {
      "image/png": "[encoded data removed]",
      "text/plain": [
       "<Figure size 432x288 with 1 Axes>"
      ]
     },
     "metadata": {
      "needs_background": "light"
     },
     "output_type": "display_data"
    }
   ],
   "source": [
    "score = ddpg()\n",
    "\n",
    "fig = plt.figure()\n",
    "plt.plot(np.arange(len(score)), score)\n",
    "plt.ylabel('score')\n",
    "plt.xlabel('Episodes')\n",
    "plt.show()"
   ]
  }
 ],
 "metadata": {
  "kernelspec": {
   "display_name": "Python 3",
   "language": "python",
   "name": "python3"
  },
  "language_info": {
   "codemirror_mode": {
    "name": "ipython",
    "version": 3
   },
   "file_extension": ".py",
   "mimetype": "text/x-python",
   "name": "python",
   "nbconvert_exporter": "python",
   "pygments_lexer": "ipython3",
   "version": "3.6.5"
  }
 },
 "nbformat": 4,
 "nbformat_minor": 2
}
